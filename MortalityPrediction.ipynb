{
 "cells": [
  {
   "cell_type": "code",
   "execution_count": 184,
   "metadata": {},
   "outputs": [],
   "source": [
    "import pandas as pd\n",
    "import numpy as np\n",
    "import seaborn as sns\n",
    "import matplotlib.pyplot as plt"
   ]
  },
  {
   "cell_type": "code",
   "execution_count": 185,
   "metadata": {},
   "outputs": [],
   "source": [
    "train = pd.read_csv(\"Train and Test with added features andor labels/mimic_synthetic_train_with_added_label_and_features.csv\")"
   ]
  },
  {
   "cell_type": "code",
   "execution_count": 186,
   "metadata": {},
   "outputs": [],
   "source": [
    "test = pd.read_csv(\"Train and Test with added features andor labels/mimic_synthetic_test._with_features_added.csv\")"
   ]
  },
  {
   "cell_type": "code",
   "execution_count": 187,
   "metadata": {},
   "outputs": [
    {
     "data": {
      "text/plain": [
       "340"
      ]
     },
     "execution_count": 187,
     "metadata": {},
     "output_type": "execute_result"
    }
   ],
   "source": [
    "len(train.columns) # One extra column of the labels in training set"
   ]
  },
  {
   "cell_type": "code",
   "execution_count": 188,
   "metadata": {},
   "outputs": [
    {
     "data": {
      "text/plain": [
       "339"
      ]
     },
     "execution_count": 188,
     "metadata": {},
     "output_type": "execute_result"
    }
   ],
   "source": [
    "len(test.columns)"
   ]
  },
  {
   "cell_type": "code",
   "execution_count": 189,
   "metadata": {},
   "outputs": [],
   "source": [
    "Gender_mapping={'M':0,'F':1}                       # convert string to numeric\n",
    "train['GENDER']=train['GENDER'].map(Gender_mapping)\n",
    "test['GENDER']=test['GENDER'].map(Gender_mapping)"
   ]
  },
  {
   "cell_type": "code",
   "execution_count": 190,
   "metadata": {},
   "outputs": [],
   "source": [
    "# train['GENDER']"
   ]
  },
  {
   "cell_type": "code",
   "execution_count": 191,
   "metadata": {},
   "outputs": [],
   "source": [
    "ICU_mapping={'CCU':1, 'MICU':2, 'TSICU':3, 'CSRU':4, 'SICU':5}   # convert string to numeric\n",
    "train['ICU']=train['ICU'].map(ICU_mapping)\n",
    "test['ICU']=test['ICU'].map(ICU_mapping)"
   ]
  },
  {
   "cell_type": "code",
   "execution_count": 192,
   "metadata": {},
   "outputs": [
    {
     "data": {
      "text/plain": [
       "'AGE'"
      ]
     },
     "execution_count": 192,
     "metadata": {},
     "output_type": "execute_result"
    }
   ],
   "source": [
    "train.columns[8]\n",
    "test.columns[8]"
   ]
  },
  {
   "cell_type": "code",
   "execution_count": 193,
   "metadata": {},
   "outputs": [
    {
     "data": {
      "text/html": [
       "<div>\n",
       "<style scoped>\n",
       "    .dataframe tbody tr th:only-of-type {\n",
       "        vertical-align: middle;\n",
       "    }\n",
       "\n",
       "    .dataframe tbody tr th {\n",
       "        vertical-align: top;\n",
       "    }\n",
       "\n",
       "    .dataframe thead th {\n",
       "        text-align: right;\n",
       "    }\n",
       "</style>\n",
       "<table border=\"1\" class=\"dataframe\">\n",
       "  <thead>\n",
       "    <tr style=\"text-align: right;\">\n",
       "      <th></th>\n",
       "      <th>ADMITTIME</th>\n",
       "      <th>DISCHTIME</th>\n",
       "      <th>INSURANCE</th>\n",
       "      <th>LANGUAGE</th>\n",
       "      <th>RELIGION</th>\n",
       "      <th>MARITAL_STATUS</th>\n",
       "      <th>ETHNICITY</th>\n",
       "      <th>GENDER</th>\n",
       "      <th>AGE</th>\n",
       "      <th>HR  MIN  DAY1</th>\n",
       "      <th>...</th>\n",
       "      <th>Othereyedx</th>\n",
       "      <th>Otitismedia</th>\n",
       "      <th>Dizziness</th>\n",
       "      <th>Othereardx</th>\n",
       "      <th>Othnervdx</th>\n",
       "      <th>Hrtvalvedx</th>\n",
       "      <th>Carditis</th>\n",
       "      <th>HTN</th>\n",
       "      <th>Htncomplicn</th>\n",
       "      <th>Dead</th>\n",
       "    </tr>\n",
       "  </thead>\n",
       "  <tbody>\n",
       "    <tr>\n",
       "      <th>0</th>\n",
       "      <td>2128 05 15  23  42  00</td>\n",
       "      <td>2132 07 23  15  00  00</td>\n",
       "      <td>Private</td>\n",
       "      <td>ENGL</td>\n",
       "      <td>CATHOLIC</td>\n",
       "      <td>DIVORCED</td>\n",
       "      <td>WHITE</td>\n",
       "      <td>1.0</td>\n",
       "      <td>21.0</td>\n",
       "      <td>57.207630</td>\n",
       "      <td>...</td>\n",
       "      <td>0.0</td>\n",
       "      <td>0.0</td>\n",
       "      <td>0.0</td>\n",
       "      <td>0.0</td>\n",
       "      <td>0.0</td>\n",
       "      <td>0.0</td>\n",
       "      <td>0.0</td>\n",
       "      <td>0.0</td>\n",
       "      <td>0.0</td>\n",
       "      <td>0.0</td>\n",
       "    </tr>\n",
       "    <tr>\n",
       "      <th>1</th>\n",
       "      <td>2134 03 17  03  59  00</td>\n",
       "      <td>2113 03 06  12  05  00</td>\n",
       "      <td>Private</td>\n",
       "      <td>ENGL</td>\n",
       "      <td>UNOBTAINABLE</td>\n",
       "      <td>SINGLE</td>\n",
       "      <td>WHITE</td>\n",
       "      <td>0.0</td>\n",
       "      <td>39.0</td>\n",
       "      <td>79.331400</td>\n",
       "      <td>...</td>\n",
       "      <td>0.0</td>\n",
       "      <td>0.0</td>\n",
       "      <td>0.0</td>\n",
       "      <td>0.0</td>\n",
       "      <td>0.0</td>\n",
       "      <td>0.0</td>\n",
       "      <td>0.0</td>\n",
       "      <td>0.0</td>\n",
       "      <td>1.0</td>\n",
       "      <td>0.0</td>\n",
       "    </tr>\n",
       "    <tr>\n",
       "      <th>2</th>\n",
       "      <td>2164 04 05  17  32  00</td>\n",
       "      <td>2180 09 20  16  30  00</td>\n",
       "      <td>Medicaid</td>\n",
       "      <td>SPAN</td>\n",
       "      <td>CATHOLIC</td>\n",
       "      <td>WIDOWED</td>\n",
       "      <td>OTHER</td>\n",
       "      <td>0.0</td>\n",
       "      <td>40.0</td>\n",
       "      <td>118.230290</td>\n",
       "      <td>...</td>\n",
       "      <td>0.0</td>\n",
       "      <td>0.0</td>\n",
       "      <td>0.0</td>\n",
       "      <td>0.0</td>\n",
       "      <td>0.0</td>\n",
       "      <td>0.0</td>\n",
       "      <td>0.0</td>\n",
       "      <td>0.0</td>\n",
       "      <td>0.0</td>\n",
       "      <td>0.0</td>\n",
       "    </tr>\n",
       "    <tr>\n",
       "      <th>3</th>\n",
       "      <td>2102 09 08  00  58  00</td>\n",
       "      <td>2166 06 26  15  30  00</td>\n",
       "      <td>Medicare</td>\n",
       "      <td>ENGL</td>\n",
       "      <td>NOT  SPECIFIED</td>\n",
       "      <td>MARRIED</td>\n",
       "      <td>WHITE</td>\n",
       "      <td>0.0</td>\n",
       "      <td>75.0</td>\n",
       "      <td>83.780380</td>\n",
       "      <td>...</td>\n",
       "      <td>0.0</td>\n",
       "      <td>0.0</td>\n",
       "      <td>0.0</td>\n",
       "      <td>0.0</td>\n",
       "      <td>0.0</td>\n",
       "      <td>0.0</td>\n",
       "      <td>0.0</td>\n",
       "      <td>1.0</td>\n",
       "      <td>0.0</td>\n",
       "      <td>0.0</td>\n",
       "    </tr>\n",
       "    <tr>\n",
       "      <th>4</th>\n",
       "      <td>2163 08 06  12  07  00</td>\n",
       "      <td>2147 01 14  18  40  00</td>\n",
       "      <td>Medicare</td>\n",
       "      <td>ENGL</td>\n",
       "      <td>UNOBTAINABLE</td>\n",
       "      <td>MARRIED</td>\n",
       "      <td>UNKNOWN/NOT  SPECIFIED</td>\n",
       "      <td>1.0</td>\n",
       "      <td>55.0</td>\n",
       "      <td>60.878613</td>\n",
       "      <td>...</td>\n",
       "      <td>0.0</td>\n",
       "      <td>0.0</td>\n",
       "      <td>0.0</td>\n",
       "      <td>0.0</td>\n",
       "      <td>0.0</td>\n",
       "      <td>0.0</td>\n",
       "      <td>0.0</td>\n",
       "      <td>0.0</td>\n",
       "      <td>0.0</td>\n",
       "      <td>0.0</td>\n",
       "    </tr>\n",
       "  </tbody>\n",
       "</table>\n",
       "<p>5 rows × 340 columns</p>\n",
       "</div>"
      ],
      "text/plain": [
       "                ADMITTIME               DISCHTIME INSURANCE LANGUAGE  \\\n",
       "0  2128 05 15  23  42  00  2132 07 23  15  00  00   Private     ENGL   \n",
       "1  2134 03 17  03  59  00  2113 03 06  12  05  00   Private     ENGL   \n",
       "2  2164 04 05  17  32  00  2180 09 20  16  30  00  Medicaid     SPAN   \n",
       "3  2102 09 08  00  58  00  2166 06 26  15  30  00  Medicare     ENGL   \n",
       "4  2163 08 06  12  07  00  2147 01 14  18  40  00  Medicare     ENGL   \n",
       "\n",
       "         RELIGION MARITAL_STATUS               ETHNICITY  GENDER   AGE  \\\n",
       "0        CATHOLIC       DIVORCED                   WHITE     1.0  21.0   \n",
       "1    UNOBTAINABLE         SINGLE                   WHITE     0.0  39.0   \n",
       "2        CATHOLIC        WIDOWED                   OTHER     0.0  40.0   \n",
       "3  NOT  SPECIFIED        MARRIED                   WHITE     0.0  75.0   \n",
       "4    UNOBTAINABLE        MARRIED  UNKNOWN/NOT  SPECIFIED     1.0  55.0   \n",
       "\n",
       "   HR  MIN  DAY1  ...  Othereyedx  Otitismedia  Dizziness  Othereardx  \\\n",
       "0      57.207630  ...         0.0          0.0        0.0         0.0   \n",
       "1      79.331400  ...         0.0          0.0        0.0         0.0   \n",
       "2     118.230290  ...         0.0          0.0        0.0         0.0   \n",
       "3      83.780380  ...         0.0          0.0        0.0         0.0   \n",
       "4      60.878613  ...         0.0          0.0        0.0         0.0   \n",
       "\n",
       "   Othnervdx  Hrtvalvedx  Carditis  HTN  Htncomplicn  Dead  \n",
       "0        0.0         0.0       0.0  0.0          0.0   0.0  \n",
       "1        0.0         0.0       0.0  0.0          1.0   0.0  \n",
       "2        0.0         0.0       0.0  0.0          0.0   0.0  \n",
       "3        0.0         0.0       0.0  1.0          0.0   0.0  \n",
       "4        0.0         0.0       0.0  0.0          0.0   0.0  \n",
       "\n",
       "[5 rows x 340 columns]"
      ]
     },
     "execution_count": 193,
     "metadata": {},
     "output_type": "execute_result"
    }
   ],
   "source": [
    "train.head()"
   ]
  },
  {
   "cell_type": "code",
   "execution_count": 194,
   "metadata": {},
   "outputs": [
    {
     "data": {
      "text/html": [
       "<div>\n",
       "<style scoped>\n",
       "    .dataframe tbody tr th:only-of-type {\n",
       "        vertical-align: middle;\n",
       "    }\n",
       "\n",
       "    .dataframe tbody tr th {\n",
       "        vertical-align: top;\n",
       "    }\n",
       "\n",
       "    .dataframe thead th {\n",
       "        text-align: right;\n",
       "    }\n",
       "</style>\n",
       "<table border=\"1\" class=\"dataframe\">\n",
       "  <thead>\n",
       "    <tr style=\"text-align: right;\">\n",
       "      <th></th>\n",
       "      <th>ADMITTIME</th>\n",
       "      <th>DISCHTIME</th>\n",
       "      <th>INSURANCE</th>\n",
       "      <th>LANGUAGE</th>\n",
       "      <th>RELIGION</th>\n",
       "      <th>MARITAL_STATUS</th>\n",
       "      <th>ETHNICITY</th>\n",
       "      <th>GENDER</th>\n",
       "      <th>AGE</th>\n",
       "      <th>HR_MIN_DAY1</th>\n",
       "      <th>...</th>\n",
       "      <th>Eyeinfectn</th>\n",
       "      <th>Othereyedx</th>\n",
       "      <th>Otitismedia</th>\n",
       "      <th>Dizziness</th>\n",
       "      <th>Othereardx</th>\n",
       "      <th>Othnervdx</th>\n",
       "      <th>Hrtvalvedx</th>\n",
       "      <th>Carditis</th>\n",
       "      <th>HTN</th>\n",
       "      <th>Htncomplicn</th>\n",
       "    </tr>\n",
       "  </thead>\n",
       "  <tbody>\n",
       "    <tr>\n",
       "      <th>0</th>\n",
       "      <td>2169-12-28_15:01:00</td>\n",
       "      <td>2127-05-18_19:00:00</td>\n",
       "      <td>Self_Pay</td>\n",
       "      <td>ENGL</td>\n",
       "      <td>OTHER</td>\n",
       "      <td>MARRIED</td>\n",
       "      <td>WHITE</td>\n",
       "      <td>1</td>\n",
       "      <td>18</td>\n",
       "      <td>72.64388</td>\n",
       "      <td>...</td>\n",
       "      <td>0</td>\n",
       "      <td>0</td>\n",
       "      <td>0</td>\n",
       "      <td>0</td>\n",
       "      <td>0</td>\n",
       "      <td>0</td>\n",
       "      <td>0</td>\n",
       "      <td>0</td>\n",
       "      <td>0</td>\n",
       "      <td>0</td>\n",
       "    </tr>\n",
       "    <tr>\n",
       "      <th>1</th>\n",
       "      <td>2191-12-30_16:34:00</td>\n",
       "      <td>2117-12-06_14:09:00</td>\n",
       "      <td>Medicare</td>\n",
       "      <td>ENGL</td>\n",
       "      <td>NOT_SPECIFIED</td>\n",
       "      <td>SINGLE</td>\n",
       "      <td>BLACK/AFRICAN_AMERICAN</td>\n",
       "      <td>1</td>\n",
       "      <td>56</td>\n",
       "      <td>66.60985</td>\n",
       "      <td>...</td>\n",
       "      <td>0</td>\n",
       "      <td>0</td>\n",
       "      <td>0</td>\n",
       "      <td>0</td>\n",
       "      <td>0</td>\n",
       "      <td>0</td>\n",
       "      <td>0</td>\n",
       "      <td>0</td>\n",
       "      <td>1</td>\n",
       "      <td>0</td>\n",
       "    </tr>\n",
       "    <tr>\n",
       "      <th>2</th>\n",
       "      <td>2110-09-08_16:29:00</td>\n",
       "      <td>2130-12-03_14:18:00</td>\n",
       "      <td>Medicaid</td>\n",
       "      <td>ENGL</td>\n",
       "      <td>CATHOLIC</td>\n",
       "      <td>SINGLE</td>\n",
       "      <td>WHITE</td>\n",
       "      <td>0</td>\n",
       "      <td>32</td>\n",
       "      <td>69.71651</td>\n",
       "      <td>...</td>\n",
       "      <td>0</td>\n",
       "      <td>0</td>\n",
       "      <td>0</td>\n",
       "      <td>0</td>\n",
       "      <td>0</td>\n",
       "      <td>0</td>\n",
       "      <td>0</td>\n",
       "      <td>0</td>\n",
       "      <td>0</td>\n",
       "      <td>0</td>\n",
       "    </tr>\n",
       "    <tr>\n",
       "      <th>3</th>\n",
       "      <td>2151-07-20_23:13:00</td>\n",
       "      <td>2158-10-15_15:21:00</td>\n",
       "      <td>Private</td>\n",
       "      <td>ENGL</td>\n",
       "      <td>OTHER</td>\n",
       "      <td>MARRIED</td>\n",
       "      <td>WHITE</td>\n",
       "      <td>0</td>\n",
       "      <td>80</td>\n",
       "      <td>63.28020</td>\n",
       "      <td>...</td>\n",
       "      <td>0</td>\n",
       "      <td>0</td>\n",
       "      <td>0</td>\n",
       "      <td>0</td>\n",
       "      <td>0</td>\n",
       "      <td>0</td>\n",
       "      <td>0</td>\n",
       "      <td>0</td>\n",
       "      <td>0</td>\n",
       "      <td>0</td>\n",
       "    </tr>\n",
       "    <tr>\n",
       "      <th>4</th>\n",
       "      <td>2168-11-15_23:41:00</td>\n",
       "      <td>2123-07-23_12:22:00</td>\n",
       "      <td>Medicare</td>\n",
       "      <td>ENGL</td>\n",
       "      <td>JEWISH</td>\n",
       "      <td>WIDOWED</td>\n",
       "      <td>WHITE</td>\n",
       "      <td>0</td>\n",
       "      <td>83</td>\n",
       "      <td>75.22861</td>\n",
       "      <td>...</td>\n",
       "      <td>0</td>\n",
       "      <td>0</td>\n",
       "      <td>0</td>\n",
       "      <td>0</td>\n",
       "      <td>0</td>\n",
       "      <td>0</td>\n",
       "      <td>0</td>\n",
       "      <td>0</td>\n",
       "      <td>0</td>\n",
       "      <td>0</td>\n",
       "    </tr>\n",
       "  </tbody>\n",
       "</table>\n",
       "<p>5 rows × 339 columns</p>\n",
       "</div>"
      ],
      "text/plain": [
       "             ADMITTIME            DISCHTIME INSURANCE LANGUAGE       RELIGION  \\\n",
       "0  2169-12-28_15:01:00  2127-05-18_19:00:00  Self_Pay     ENGL          OTHER   \n",
       "1  2191-12-30_16:34:00  2117-12-06_14:09:00  Medicare     ENGL  NOT_SPECIFIED   \n",
       "2  2110-09-08_16:29:00  2130-12-03_14:18:00  Medicaid     ENGL       CATHOLIC   \n",
       "3  2151-07-20_23:13:00  2158-10-15_15:21:00   Private     ENGL          OTHER   \n",
       "4  2168-11-15_23:41:00  2123-07-23_12:22:00  Medicare     ENGL         JEWISH   \n",
       "\n",
       "  MARITAL_STATUS               ETHNICITY  GENDER  AGE  HR_MIN_DAY1  ...  \\\n",
       "0        MARRIED                   WHITE       1   18     72.64388  ...   \n",
       "1         SINGLE  BLACK/AFRICAN_AMERICAN       1   56     66.60985  ...   \n",
       "2         SINGLE                   WHITE       0   32     69.71651  ...   \n",
       "3        MARRIED                   WHITE       0   80     63.28020  ...   \n",
       "4        WIDOWED                   WHITE       0   83     75.22861  ...   \n",
       "\n",
       "   Eyeinfectn  Othereyedx  Otitismedia  Dizziness  Othereardx  Othnervdx  \\\n",
       "0           0           0            0          0           0          0   \n",
       "1           0           0            0          0           0          0   \n",
       "2           0           0            0          0           0          0   \n",
       "3           0           0            0          0           0          0   \n",
       "4           0           0            0          0           0          0   \n",
       "\n",
       "   Hrtvalvedx  Carditis  HTN  Htncomplicn  \n",
       "0           0         0    0            0  \n",
       "1           0         0    1            0  \n",
       "2           0         0    0            0  \n",
       "3           0         0    0            0  \n",
       "4           0         0    0            0  \n",
       "\n",
       "[5 rows x 339 columns]"
      ]
     },
     "execution_count": 194,
     "metadata": {},
     "output_type": "execute_result"
    }
   ],
   "source": [
    "test.head()"
   ]
  },
  {
   "cell_type": "code",
   "execution_count": null,
   "metadata": {},
   "outputs": [],
   "source": []
  },
  {
   "cell_type": "code",
   "execution_count": 195,
   "metadata": {},
   "outputs": [],
   "source": [
    "train=train.iloc[:,7:]                                           # Remove non-repeated string data\n",
    "test=test.iloc[:,7:]"
   ]
  },
  {
   "cell_type": "code",
   "execution_count": 196,
   "metadata": {},
   "outputs": [
    {
     "data": {
      "text/html": [
       "<div>\n",
       "<style scoped>\n",
       "    .dataframe tbody tr th:only-of-type {\n",
       "        vertical-align: middle;\n",
       "    }\n",
       "\n",
       "    .dataframe tbody tr th {\n",
       "        vertical-align: top;\n",
       "    }\n",
       "\n",
       "    .dataframe thead th {\n",
       "        text-align: right;\n",
       "    }\n",
       "</style>\n",
       "<table border=\"1\" class=\"dataframe\">\n",
       "  <thead>\n",
       "    <tr style=\"text-align: right;\">\n",
       "      <th></th>\n",
       "      <th>GENDER</th>\n",
       "      <th>AGE</th>\n",
       "      <th>HR  MIN  DAY1</th>\n",
       "      <th>HR  MAX  DAY1</th>\n",
       "      <th>HR  MEAN  DAY1</th>\n",
       "      <th>SYS  BP  MIN  DAY1</th>\n",
       "      <th>SYS  BP  MAX  DAY1</th>\n",
       "      <th>SYS  BP  MEAN  DAY1</th>\n",
       "      <th>DIAS  BP  MIN  DAY1</th>\n",
       "      <th>DIAS  BP  MAX  DAY1</th>\n",
       "      <th>...</th>\n",
       "      <th>Othereyedx</th>\n",
       "      <th>Otitismedia</th>\n",
       "      <th>Dizziness</th>\n",
       "      <th>Othereardx</th>\n",
       "      <th>Othnervdx</th>\n",
       "      <th>Hrtvalvedx</th>\n",
       "      <th>Carditis</th>\n",
       "      <th>HTN</th>\n",
       "      <th>Htncomplicn</th>\n",
       "      <th>Dead</th>\n",
       "    </tr>\n",
       "  </thead>\n",
       "  <tbody>\n",
       "    <tr>\n",
       "      <th>0</th>\n",
       "      <td>1.0</td>\n",
       "      <td>21.0</td>\n",
       "      <td>57.20763</td>\n",
       "      <td>108.704030</td>\n",
       "      <td>70.841980</td>\n",
       "      <td>79.84706</td>\n",
       "      <td>119.72417</td>\n",
       "      <td>94.435090</td>\n",
       "      <td>26.880910</td>\n",
       "      <td>68.876540</td>\n",
       "      <td>...</td>\n",
       "      <td>0.0</td>\n",
       "      <td>0.0</td>\n",
       "      <td>0.0</td>\n",
       "      <td>0.0</td>\n",
       "      <td>0.0</td>\n",
       "      <td>0.0</td>\n",
       "      <td>0.0</td>\n",
       "      <td>0.0</td>\n",
       "      <td>0.0</td>\n",
       "      <td>0.0</td>\n",
       "    </tr>\n",
       "    <tr>\n",
       "      <th>1</th>\n",
       "      <td>0.0</td>\n",
       "      <td>39.0</td>\n",
       "      <td>79.33140</td>\n",
       "      <td>121.138664</td>\n",
       "      <td>96.915726</td>\n",
       "      <td>93.99454</td>\n",
       "      <td>138.59406</td>\n",
       "      <td>113.570206</td>\n",
       "      <td>38.621536</td>\n",
       "      <td>74.270065</td>\n",
       "      <td>...</td>\n",
       "      <td>0.0</td>\n",
       "      <td>0.0</td>\n",
       "      <td>0.0</td>\n",
       "      <td>0.0</td>\n",
       "      <td>0.0</td>\n",
       "      <td>0.0</td>\n",
       "      <td>0.0</td>\n",
       "      <td>0.0</td>\n",
       "      <td>1.0</td>\n",
       "      <td>0.0</td>\n",
       "    </tr>\n",
       "  </tbody>\n",
       "</table>\n",
       "<p>2 rows × 333 columns</p>\n",
       "</div>"
      ],
      "text/plain": [
       "   GENDER   AGE  HR  MIN  DAY1  HR  MAX  DAY1  HR  MEAN  DAY1  \\\n",
       "0     1.0  21.0       57.20763     108.704030       70.841980   \n",
       "1     0.0  39.0       79.33140     121.138664       96.915726   \n",
       "\n",
       "   SYS  BP  MIN  DAY1  SYS  BP  MAX  DAY1  SYS  BP  MEAN  DAY1  \\\n",
       "0            79.84706           119.72417            94.435090   \n",
       "1            93.99454           138.59406           113.570206   \n",
       "\n",
       "   DIAS  BP  MIN  DAY1  DIAS  BP  MAX  DAY1  ...  Othereyedx  Otitismedia  \\\n",
       "0            26.880910            68.876540  ...         0.0          0.0   \n",
       "1            38.621536            74.270065  ...         0.0          0.0   \n",
       "\n",
       "   Dizziness  Othereardx  Othnervdx  Hrtvalvedx  Carditis  HTN  Htncomplicn  \\\n",
       "0        0.0         0.0        0.0         0.0       0.0  0.0          0.0   \n",
       "1        0.0         0.0        0.0         0.0       0.0  0.0          1.0   \n",
       "\n",
       "   Dead  \n",
       "0   0.0  \n",
       "1   0.0  \n",
       "\n",
       "[2 rows x 333 columns]"
      ]
     },
     "execution_count": 196,
     "metadata": {},
     "output_type": "execute_result"
    }
   ],
   "source": [
    "# train = train.iloc[:,1:]\n",
    "train.head(2)"
   ]
  },
  {
   "cell_type": "code",
   "execution_count": 197,
   "metadata": {},
   "outputs": [
    {
     "data": {
      "text/html": [
       "<div>\n",
       "<style scoped>\n",
       "    .dataframe tbody tr th:only-of-type {\n",
       "        vertical-align: middle;\n",
       "    }\n",
       "\n",
       "    .dataframe tbody tr th {\n",
       "        vertical-align: top;\n",
       "    }\n",
       "\n",
       "    .dataframe thead th {\n",
       "        text-align: right;\n",
       "    }\n",
       "</style>\n",
       "<table border=\"1\" class=\"dataframe\">\n",
       "  <thead>\n",
       "    <tr style=\"text-align: right;\">\n",
       "      <th></th>\n",
       "      <th>GENDER</th>\n",
       "      <th>AGE</th>\n",
       "      <th>HR_MIN_DAY1</th>\n",
       "      <th>HR_MAX_DAY1</th>\n",
       "      <th>HR_MEAN_DAY1</th>\n",
       "      <th>SYS_BP_MIN_DAY1</th>\n",
       "      <th>SYS_BP_MAX_DAY1</th>\n",
       "      <th>SYS_BP_MEAN_DAY1</th>\n",
       "      <th>DIAS_BP_MIN_DAY1</th>\n",
       "      <th>DIAS_BP_MAX_DAY1</th>\n",
       "      <th>...</th>\n",
       "      <th>Eyeinfectn</th>\n",
       "      <th>Othereyedx</th>\n",
       "      <th>Otitismedia</th>\n",
       "      <th>Dizziness</th>\n",
       "      <th>Othereardx</th>\n",
       "      <th>Othnervdx</th>\n",
       "      <th>Hrtvalvedx</th>\n",
       "      <th>Carditis</th>\n",
       "      <th>HTN</th>\n",
       "      <th>Htncomplicn</th>\n",
       "    </tr>\n",
       "  </thead>\n",
       "  <tbody>\n",
       "    <tr>\n",
       "      <th>0</th>\n",
       "      <td>1</td>\n",
       "      <td>18</td>\n",
       "      <td>72.64388</td>\n",
       "      <td>112.70850</td>\n",
       "      <td>96.46485</td>\n",
       "      <td>85.319580</td>\n",
       "      <td>121.78375</td>\n",
       "      <td>103.074420</td>\n",
       "      <td>47.445683</td>\n",
       "      <td>79.353836</td>\n",
       "      <td>...</td>\n",
       "      <td>0</td>\n",
       "      <td>0</td>\n",
       "      <td>0</td>\n",
       "      <td>0</td>\n",
       "      <td>0</td>\n",
       "      <td>0</td>\n",
       "      <td>0</td>\n",
       "      <td>0</td>\n",
       "      <td>0</td>\n",
       "      <td>0</td>\n",
       "    </tr>\n",
       "    <tr>\n",
       "      <th>1</th>\n",
       "      <td>1</td>\n",
       "      <td>56</td>\n",
       "      <td>66.60985</td>\n",
       "      <td>106.79843</td>\n",
       "      <td>83.84866</td>\n",
       "      <td>92.358284</td>\n",
       "      <td>141.43913</td>\n",
       "      <td>122.410645</td>\n",
       "      <td>38.688465</td>\n",
       "      <td>89.153900</td>\n",
       "      <td>...</td>\n",
       "      <td>0</td>\n",
       "      <td>0</td>\n",
       "      <td>0</td>\n",
       "      <td>0</td>\n",
       "      <td>0</td>\n",
       "      <td>0</td>\n",
       "      <td>0</td>\n",
       "      <td>0</td>\n",
       "      <td>1</td>\n",
       "      <td>0</td>\n",
       "    </tr>\n",
       "  </tbody>\n",
       "</table>\n",
       "<p>2 rows × 332 columns</p>\n",
       "</div>"
      ],
      "text/plain": [
       "   GENDER  AGE  HR_MIN_DAY1  HR_MAX_DAY1  HR_MEAN_DAY1  SYS_BP_MIN_DAY1  \\\n",
       "0       1   18     72.64388    112.70850      96.46485        85.319580   \n",
       "1       1   56     66.60985    106.79843      83.84866        92.358284   \n",
       "\n",
       "   SYS_BP_MAX_DAY1  SYS_BP_MEAN_DAY1  DIAS_BP_MIN_DAY1  DIAS_BP_MAX_DAY1  ...  \\\n",
       "0        121.78375        103.074420         47.445683         79.353836  ...   \n",
       "1        141.43913        122.410645         38.688465         89.153900  ...   \n",
       "\n",
       "   Eyeinfectn  Othereyedx  Otitismedia  Dizziness  Othereardx  Othnervdx  \\\n",
       "0           0           0            0          0           0          0   \n",
       "1           0           0            0          0           0          0   \n",
       "\n",
       "   Hrtvalvedx  Carditis  HTN  Htncomplicn  \n",
       "0           0         0    0            0  \n",
       "1           0         0    1            0  \n",
       "\n",
       "[2 rows x 332 columns]"
      ]
     },
     "execution_count": 197,
     "metadata": {},
     "output_type": "execute_result"
    }
   ],
   "source": [
    "# test = test.iloc[:,1:]\n",
    "test.head(2)"
   ]
  },
  {
   "cell_type": "code",
   "execution_count": null,
   "metadata": {},
   "outputs": [],
   "source": []
  },
  {
   "cell_type": "code",
   "execution_count": 198,
   "metadata": {},
   "outputs": [],
   "source": [
    "train['Otnutritdx']=train['Otnutritdx'].astype(float)            # Make string to float type\n",
    "test['Otnutritdx']=test['Otnutritdx'].astype(float)"
   ]
  },
  {
   "cell_type": "code",
   "execution_count": 199,
   "metadata": {},
   "outputs": [],
   "source": [
    "train['Othnervdx']=train['Othnervdx'].astype(float)              # Make string to float type\n",
    "test['Othnervdx']=test['Othnervdx'].astype(float)"
   ]
  },
  {
   "cell_type": "code",
   "execution_count": null,
   "metadata": {},
   "outputs": [],
   "source": []
  },
  {
   "cell_type": "code",
   "execution_count": 200,
   "metadata": {},
   "outputs": [],
   "source": [
    "for i in train:                                                  # Fill the missing value by mean  \n",
    "    mean_value=train[i].mean()\n",
    "    train[i]=train[i].fillna(mean_value)\n",
    "for i in test:\n",
    "    mean_value=test[i].mean()\n",
    "    test[i]=test[i].fillna(mean_value)"
   ]
  },
  {
   "cell_type": "code",
   "execution_count": null,
   "metadata": {},
   "outputs": [],
   "source": []
  },
  {
   "cell_type": "code",
   "execution_count": 201,
   "metadata": {},
   "outputs": [
    {
     "data": {
      "text/plain": [
       "333"
      ]
     },
     "execution_count": 201,
     "metadata": {},
     "output_type": "execute_result"
    }
   ],
   "source": [
    "len(train.columns)"
   ]
  },
  {
   "cell_type": "code",
   "execution_count": 202,
   "metadata": {},
   "outputs": [
    {
     "data": {
      "text/plain": [
       "332"
      ]
     },
     "execution_count": 202,
     "metadata": {},
     "output_type": "execute_result"
    }
   ],
   "source": [
    "len(test.columns)"
   ]
  },
  {
   "cell_type": "code",
   "execution_count": null,
   "metadata": {},
   "outputs": [],
   "source": []
  },
  {
   "cell_type": "code",
   "execution_count": 203,
   "metadata": {},
   "outputs": [],
   "source": [
    "train_1=train[train['Dead']>0]\n",
    "train_0_raw=train[train['Dead']<1] \n",
    "train_0=train_0_raw.iloc[:2798,:]\n",
    "train=pd.concat([train_0,train_1])"
   ]
  },
  {
   "cell_type": "code",
   "execution_count": 204,
   "metadata": {},
   "outputs": [],
   "source": [
    "X = train.iloc[:,:-1]                                           #Train data without output class\n",
    "Y = train.iloc[:,-1:]                                           # Output class"
   ]
  },
  {
   "cell_type": "code",
   "execution_count": 205,
   "metadata": {},
   "outputs": [],
   "source": [
    "Y = Y.astype('int')"
   ]
  },
  {
   "cell_type": "code",
   "execution_count": 206,
   "metadata": {
    "run_control": {
     "marked": true
    }
   },
   "outputs": [
    {
     "name": "stdout",
     "output_type": "stream",
     "text": [
      "2799\n",
      "2799\n"
     ]
    }
   ],
   "source": [
    "from imblearn.over_sampling import SMOTE                        # Balance imbalance data\n",
    "sm = SMOTE(random_state=2)\n",
    "X, Y = sm.fit_sample(X, np.ravel(Y))\n",
    "print(sum(Y==0))\n",
    "print(sum(Y==1))"
   ]
  },
  {
   "cell_type": "code",
   "execution_count": 207,
   "metadata": {},
   "outputs": [],
   "source": [
    "from sklearn.preprocessing import StandardScaler                #Make standard scale\n",
    "sc_X = StandardScaler()\n",
    "X = sc_X.fit_transform(X)\n",
    "test = sc_X.transform(test)"
   ]
  },
  {
   "cell_type": "code",
   "execution_count": 208,
   "metadata": {},
   "outputs": [],
   "source": [
    "from sklearn.model_selection import train_test_split            #Split data into train & test data \n",
    "x_train, x_test, y_train, y_test = train_test_split(X, Y , test_size = 0.20, random_state = 42)"
   ]
  },
  {
   "cell_type": "markdown",
   "metadata": {},
   "source": [
    "# Logistic Regression"
   ]
  },
  {
   "cell_type": "code",
   "execution_count": 209,
   "metadata": {},
   "outputs": [
    {
     "name": "stderr",
     "output_type": "stream",
     "text": [
      "C:\\Users\\NAUSHAD\\Anaconda3\\lib\\site-packages\\sklearn\\linear_model\\logistic.py:432: FutureWarning: Default solver will be changed to 'lbfgs' in 0.22. Specify a solver to silence this warning.\n",
      "  FutureWarning)\n"
     ]
    },
    {
     "name": "stdout",
     "output_type": "stream",
     "text": [
      "64.46\n"
     ]
    },
    {
     "data": {
      "image/png": "[encoded data removed]",
      "text/plain": [
       "<Figure size 432x288 with 1 Axes>"
      ]
     },
     "metadata": {
      "needs_background": "light"
     },
     "output_type": "display_data"
    }
   ],
   "source": [
    "#Logistic Regression\n",
    "from sklearn.metrics import accuracy_score  \n",
    "from sklearn.linear_model import LogisticRegression\n",
    "\n",
    "logreg = LogisticRegression()                                    #Logistic Regression\n",
    "logreg.fit(x_train, y_train)\n",
    "x = pd.Series(y_test, name=\"Test Data\")\n",
    "ax = sns.distplot(x)\n",
    "y_pred = logreg.predict(x_test)\n",
    "acc_logreg = round(accuracy_score(y_pred, y_test) * 100, 2)      # Find Accuracy\n",
    "print(acc_logreg)"
   ]
  },
  {
   "cell_type": "code",
   "execution_count": 210,
   "metadata": {},
   "outputs": [
    {
     "name": "stdout",
     "output_type": "stream",
     "text": [
      "[[385 193]\n",
      " [205 337]]\n",
      "              precision    recall  f1-score   support\n",
      "\n",
      "           0       0.65      0.67      0.66       578\n",
      "           1       0.64      0.62      0.63       542\n",
      "\n",
      "    accuracy                           0.64      1120\n",
      "   macro avg       0.64      0.64      0.64      1120\n",
      "weighted avg       0.64      0.64      0.64      1120\n",
      "\n"
     ]
    }
   ],
   "source": [
    "from sklearn.metrics import confusion_matrix, classification_report\n",
    "cm = confusion_matrix(y_test, y_pred)\n",
    "report = classification_report(y_test, y_pred)\n",
    "print(cm)\n",
    "print(report)"
   ]
  },
  {
   "cell_type": "code",
   "execution_count": null,
   "metadata": {},
   "outputs": [],
   "source": []
  },
  {
   "cell_type": "code",
   "execution_count": 180,
   "metadata": {},
   "outputs": [],
   "source": [
    "# Predicting the output for the test dataset\n",
    "test_predLR = logreg.predict(test)"
   ]
  },
  {
   "cell_type": "code",
   "execution_count": null,
   "metadata": {},
   "outputs": [],
   "source": []
  },
  {
   "cell_type": "code",
   "execution_count": 211,
   "metadata": {
    "scrolled": true
   },
   "outputs": [
    {
     "name": "stderr",
     "output_type": "stream",
     "text": [
      "C:\\Users\\NAUSHAD\\Anaconda3\\lib\\site-packages\\sklearn\\svm\\base.py:929: ConvergenceWarning: Liblinear failed to converge, increase the number of iterations.\n",
      "  \"the number of iterations.\", ConvergenceWarning)\n"
     ]
    },
    {
     "name": "stdout",
     "output_type": "stream",
     "text": [
      "64.64\n"
     ]
    },
    {
     "data": {
      "image/png": "[encoded data removed]",
      "text/plain": [
       "<Figure size 432x288 with 1 Axes>"
      ]
     },
     "metadata": {
      "needs_background": "light"
     },
     "output_type": "display_data"
    }
   ],
   "source": [
    "#Linear SVC\n",
    "from sklearn.metrics import accuracy_score  \n",
    "from sklearn.svm import LinearSVC\n",
    "\n",
    "linear_svc = LinearSVC()\n",
    "linear_svc.fit(x_train, y_train)\n",
    "x = pd.Series(y_test, name=\"Test Data\")\n",
    "ax = sns.distplot(x)\n",
    "y_pred = linear_svc.predict(x_test)\n",
    "acc_logreg = round(accuracy_score(y_pred, y_test) * 100, 2)\n",
    "print(acc_logreg)"
   ]
  },
  {
   "cell_type": "code",
   "execution_count": 212,
   "metadata": {},
   "outputs": [
    {
     "name": "stdout",
     "output_type": "stream",
     "text": [
      "[[386 192]\n",
      " [204 338]]\n",
      "              precision    recall  f1-score   support\n",
      "\n",
      "           0       0.65      0.67      0.66       578\n",
      "           1       0.64      0.62      0.63       542\n",
      "\n",
      "    accuracy                           0.65      1120\n",
      "   macro avg       0.65      0.65      0.65      1120\n",
      "weighted avg       0.65      0.65      0.65      1120\n",
      "\n"
     ]
    }
   ],
   "source": [
    "cm = confusion_matrix(y_test, y_pred)\n",
    "report = classification_report(y_test, y_pred)\n",
    "print(cm)\n",
    "print(report)"
   ]
  },
  {
   "cell_type": "code",
   "execution_count": 147,
   "metadata": {},
   "outputs": [],
   "source": [
    "# Predicting the output for the test dataset\n",
    "test_predSVC = linear_svc.predict(test)"
   ]
  },
  {
   "cell_type": "code",
   "execution_count": 242,
   "metadata": {},
   "outputs": [],
   "source": [
    "#Saving the output csv file to local disk\n",
    "f = pd.DataFrame(test_pred, index=None)\n",
    "f.to_csv('aaa/mimic_synthetic_test.csv',index=False)"
   ]
  },
  {
   "cell_type": "code",
   "execution_count": 59,
   "metadata": {},
   "outputs": [
    {
     "data": {
      "text/plain": [
       "1120"
      ]
     },
     "execution_count": 59,
     "metadata": {},
     "output_type": "execute_result"
    }
   ],
   "source": [
    "type(y_pred)\n",
    "len(list(y_pred))"
   ]
  },
  {
   "cell_type": "code",
   "execution_count": null,
   "metadata": {},
   "outputs": [],
   "source": []
  },
  {
   "cell_type": "code",
   "execution_count": 213,
   "metadata": {},
   "outputs": [
    {
     "name": "stdout",
     "output_type": "stream",
     "text": [
      "64.38\n"
     ]
    },
    {
     "data": {
      "image/png": "[encoded data removed]",
      "text/plain": [
       "<Figure size 432x288 with 1 Axes>"
      ]
     },
     "metadata": {
      "needs_background": "light"
     },
     "output_type": "display_data"
    }
   ],
   "source": [
    "# Random Forest\n",
    "from sklearn.ensemble import RandomForestClassifier\n",
    "\n",
    "randomforest =  RandomForestClassifier(n_estimators = 1000, criterion = 'entropy', random_state = 0)\n",
    "randomforest.fit(x_train, y_train)\n",
    "x = pd.Series(y_test, name=\"Test Data\")\n",
    "ax = sns.distplot(x)\n",
    "y_pred = randomforest.predict(x_test)\n",
    "acc_logreg = round(accuracy_score(y_pred, y_test) * 100, 2)\n",
    "print(acc_logreg)"
   ]
  },
  {
   "cell_type": "code",
   "execution_count": 214,
   "metadata": {},
   "outputs": [
    {
     "name": "stdout",
     "output_type": "stream",
     "text": [
      "[[386 192]\n",
      " [207 335]]\n",
      "              precision    recall  f1-score   support\n",
      "\n",
      "           0       0.65      0.67      0.66       578\n",
      "           1       0.64      0.62      0.63       542\n",
      "\n",
      "    accuracy                           0.64      1120\n",
      "   macro avg       0.64      0.64      0.64      1120\n",
      "weighted avg       0.64      0.64      0.64      1120\n",
      "\n"
     ]
    }
   ],
   "source": [
    "cm = confusion_matrix(y_test, y_pred)\n",
    "report = classification_report(y_test, y_pred)\n",
    "print(cm)\n",
    "print(report)"
   ]
  },
  {
   "cell_type": "code",
   "execution_count": null,
   "metadata": {},
   "outputs": [],
   "source": []
  },
  {
   "cell_type": "code",
   "execution_count": 215,
   "metadata": {},
   "outputs": [
    {
     "name": "stdout",
     "output_type": "stream",
     "text": [
      "64.02\n"
     ]
    },
    {
     "data": {
      "image/png": "[encoded data removed]",
      "text/plain": [
       "<Figure size 432x288 with 1 Axes>"
      ]
     },
     "metadata": {
      "needs_background": "light"
     },
     "output_type": "display_data"
    }
   ],
   "source": [
    "# Gradient Boosting Classifier\n",
    "from sklearn.ensemble import GradientBoostingClassifier\n",
    "\n",
    "gbk = GradientBoostingClassifier()\n",
    "gbk.fit(x_train, y_train)\n",
    "x = pd.Series(y_test, name=\"Test Data\")\n",
    "ax = sns.distplot(x)\n",
    "y_pred = gbk.predict(x_test)\n",
    "acc_logreg = round(accuracy_score(y_pred, y_test) * 100, 2)\n",
    "print(acc_logreg)"
   ]
  },
  {
   "cell_type": "code",
   "execution_count": 216,
   "metadata": {},
   "outputs": [
    {
     "name": "stdout",
     "output_type": "stream",
     "text": [
      "[[379 199]\n",
      " [204 338]]\n",
      "              precision    recall  f1-score   support\n",
      "\n",
      "           0       0.65      0.66      0.65       578\n",
      "           1       0.63      0.62      0.63       542\n",
      "\n",
      "    accuracy                           0.64      1120\n",
      "   macro avg       0.64      0.64      0.64      1120\n",
      "weighted avg       0.64      0.64      0.64      1120\n",
      "\n"
     ]
    }
   ],
   "source": [
    "cm = confusion_matrix(y_test, y_pred)\n",
    "report = classification_report(y_test, y_pred)\n",
    "print(cm)\n",
    "print(report)"
   ]
  },
  {
   "cell_type": "code",
   "execution_count": null,
   "metadata": {},
   "outputs": [],
   "source": []
  },
  {
   "cell_type": "code",
   "execution_count": null,
   "metadata": {},
   "outputs": [],
   "source": []
  },
  {
   "cell_type": "code",
   "execution_count": 218,
   "metadata": {},
   "outputs": [
    {
     "name": "stderr",
     "output_type": "stream",
     "text": [
      "C:\\Users\\NAUSHAD\\Anaconda3\\lib\\site-packages\\ipykernel_launcher.py:6: UserWarning: Update your `Dense` call to the Keras 2 API: `Dense(activation=\"relu\", input_dim=332, units=512, kernel_initializer=\"uniform\")`\n",
      "  \n",
      "C:\\Users\\NAUSHAD\\Anaconda3\\lib\\site-packages\\ipykernel_launcher.py:7: UserWarning: Update your `Dense` call to the Keras 2 API: `Dense(activation=\"relu\", units=1024, kernel_initializer=\"uniform\")`\n",
      "  import sys\n",
      "C:\\Users\\NAUSHAD\\Anaconda3\\lib\\site-packages\\ipykernel_launcher.py:8: UserWarning: Update your `Dense` call to the Keras 2 API: `Dense(activation=\"relu\", units=256, kernel_initializer=\"uniform\")`\n",
      "  \n",
      "C:\\Users\\NAUSHAD\\Anaconda3\\lib\\site-packages\\ipykernel_launcher.py:9: UserWarning: Update your `Dense` call to the Keras 2 API: `Dense(activation=\"sigmoid\", units=1, kernel_initializer=\"uniform\")`\n",
      "  if __name__ == '__main__':\n",
      "C:\\Users\\NAUSHAD\\Anaconda3\\lib\\site-packages\\ipykernel_launcher.py:11: UserWarning: The `nb_epoch` argument in `fit` has been renamed `epochs`.\n",
      "  # This is added back by InteractiveShellApp.init_path()\n"
     ]
    },
    {
     "name": "stdout",
     "output_type": "stream",
     "text": [
      "Epoch 1/50\n",
      "5598/5598 [==============================] - 8s 1ms/step - loss: 0.6609 - acc: 0.6066\n",
      "Epoch 2/50\n",
      "5598/5598 [==============================] - 1s 139us/step - loss: 0.6090 - acc: 0.6695\n",
      "Epoch 3/50\n",
      "5598/5598 [==============================] - 1s 154us/step - loss: 0.5717 - acc: 0.7015\n",
      "Epoch 4/50\n",
      "5598/5598 [==============================] - 1s 147us/step - loss: 0.5331 - acc: 0.7337\n",
      "Epoch 5/50\n",
      "5598/5598 [==============================] - 1s 170us/step - loss: 0.4871 - acc: 0.7722\n",
      "Epoch 6/50\n",
      "5598/5598 [==============================] - 1s 184us/step - loss: 0.4295 - acc: 0.7992\n",
      "Epoch 7/50\n",
      "5598/5598 [==============================] - 1s 160us/step - loss: 0.3937 - acc: 0.8224\n",
      "Epoch 8/50\n",
      "5598/5598 [==============================] - 1s 149us/step - loss: 0.3081 - acc: 0.8723\n",
      "Epoch 9/50\n",
      "5598/5598 [==============================] - 1s 139us/step - loss: 0.2612 - acc: 0.8887\n",
      "Epoch 10/50\n",
      "5598/5598 [==============================] - 1s 158us/step - loss: 0.2332 - acc: 0.9082\n",
      "Epoch 11/50\n",
      "5598/5598 [==============================] - 1s 160us/step - loss: 0.1945 - acc: 0.9234\n",
      "Epoch 12/50\n",
      "5598/5598 [==============================] - 1s 162us/step - loss: 0.1434 - acc: 0.9489\n",
      "Epoch 13/50\n",
      "5598/5598 [==============================] - 1s 148us/step - loss: 0.0885 - acc: 0.9736\n",
      "Epoch 14/50\n",
      "5598/5598 [==============================] - 1s 142us/step - loss: 0.0786 - acc: 0.9762\n",
      "Epoch 15/50\n",
      "5598/5598 [==============================] - 1s 151us/step - loss: 0.0770 - acc: 0.9753\n",
      "Epoch 16/50\n",
      "5598/5598 [==============================] - 1s 165us/step - loss: 0.0864 - acc: 0.9705\n",
      "Epoch 17/50\n",
      "5598/5598 [==============================] - 1s 156us/step - loss: 0.0982 - acc: 0.9657\n",
      "Epoch 18/50\n",
      "5598/5598 [==============================] - 1s 169us/step - loss: 0.0921 - acc: 0.9666\n",
      "Epoch 19/50\n",
      "5598/5598 [==============================] - 1s 173us/step - loss: 0.0573 - acc: 0.9845\n",
      "Epoch 20/50\n",
      "5598/5598 [==============================] - 1s 159us/step - loss: 0.0386 - acc: 0.9912\n",
      "Epoch 21/50\n",
      "5598/5598 [==============================] - 1s 159us/step - loss: 0.0222 - acc: 0.9957\n",
      "Epoch 22/50\n",
      "5598/5598 [==============================] - 1s 167us/step - loss: 0.0132 - acc: 0.9987\n",
      "Epoch 23/50\n",
      "5598/5598 [==============================] - 1s 155us/step - loss: 0.0088 - acc: 0.9995\n",
      "Epoch 24/50\n",
      "5598/5598 [==============================] - 1s 125us/step - loss: 0.0061 - acc: 0.9998\n",
      "Epoch 25/50\n",
      "5598/5598 [==============================] - 1s 138us/step - loss: 0.0047 - acc: 0.9998\n",
      "Epoch 26/50\n",
      "5598/5598 [==============================] - 1s 157us/step - loss: 0.0042 - acc: 0.9998\n",
      "Epoch 27/50\n",
      "5598/5598 [==============================] - 1s 174us/step - loss: 0.0039 - acc: 0.9998\n",
      "Epoch 28/50\n",
      "5598/5598 [==============================] - 1s 196us/step - loss: 0.0038 - acc: 0.9998\n",
      "Epoch 29/50\n",
      "5598/5598 [==============================] - 1s 162us/step - loss: 0.0037 - acc: 0.9998\n",
      "Epoch 30/50\n",
      "5598/5598 [==============================] - 1s 161us/step - loss: 0.0036 - acc: 0.9998\n",
      "Epoch 31/50\n",
      "5598/5598 [==============================] - 1s 161us/step - loss: 0.0035 - acc: 0.9998\n",
      "Epoch 32/50\n",
      "5598/5598 [==============================] - 1s 169us/step - loss: 0.0034 - acc: 0.9998\n",
      "Epoch 33/50\n",
      "5598/5598 [==============================] - 1s 162us/step - loss: 0.0034 - acc: 0.9998\n",
      "Epoch 34/50\n",
      "5598/5598 [==============================] - 1s 128us/step - loss: 0.0033 - acc: 0.9998\n",
      "Epoch 35/50\n",
      "5598/5598 [==============================] - 1s 130us/step - loss: 0.0033 - acc: 0.9998\n",
      "Epoch 36/50\n",
      "5598/5598 [==============================] - 1s 151us/step - loss: 0.0032 - acc: 0.9998\n",
      "Epoch 37/50\n",
      "5598/5598 [==============================] - 1s 148us/step - loss: 0.0032 - acc: 0.9998\n",
      "Epoch 38/50\n",
      "5598/5598 [==============================] - 1s 145us/step - loss: 0.0032 - acc: 0.9998\n",
      "Epoch 39/50\n",
      "5598/5598 [==============================] - 1s 156us/step - loss: 0.0031 - acc: 0.9998\n",
      "Epoch 40/50\n",
      "5598/5598 [==============================] - 1s 169us/step - loss: 0.0031 - acc: 0.9998\n",
      "Epoch 41/50\n",
      "5598/5598 [==============================] - 1s 188us/step - loss: 0.0031 - acc: 0.9998\n",
      "Epoch 42/50\n",
      "5598/5598 [==============================] - 1s 144us/step - loss: 0.0031 - acc: 0.9998\n",
      "Epoch 43/50\n",
      "5598/5598 [==============================] - 1s 195us/step - loss: 0.0030 - acc: 0.9998\n",
      "Epoch 44/50\n",
      "5598/5598 [==============================] - 1s 153us/step - loss: 0.0030 - acc: 0.9998\n",
      "Epoch 45/50\n",
      "5598/5598 [==============================] - 1s 137us/step - loss: 0.0030 - acc: 0.9998\n",
      "Epoch 46/50\n",
      "5598/5598 [==============================] - 1s 187us/step - loss: 0.0030 - acc: 0.9998\n",
      "Epoch 47/50\n",
      "5598/5598 [==============================] - 1s 167us/step - loss: 0.0030 - acc: 0.9998\n",
      "Epoch 48/50\n",
      "5598/5598 [==============================] - 1s 136us/step - loss: 0.0030 - acc: 0.9998\n",
      "Epoch 49/50\n",
      "5598/5598 [==============================] - 1s 187us/step - loss: 0.0030 - acc: 0.9998\n",
      "Epoch 50/50\n",
      "5598/5598 [==============================] - 1s 205us/step - loss: 0.0030 - acc: 0.9998\n",
      "1120\n",
      "1120\n",
      "100.0\n"
     ]
    },
    {
     "data": {
      "image/png": "[encoded data removed]",
      "text/plain": [
       "<Figure size 432x288 with 1 Axes>"
      ]
     },
     "metadata": {
      "needs_background": "light"
     },
     "output_type": "display_data"
    }
   ],
   "source": [
    "# Deep Neural Network\n",
    "from keras.models import Sequential\n",
    "from keras.layers import Dense\n",
    "\n",
    "classifier = Sequential()\n",
    "classifier.add(Dense(output_dim=512,init='uniform',activation='relu',input_dim=332))\n",
    "classifier.add(Dense(output_dim=1024,init='uniform',activation='relu'))\n",
    "classifier.add(Dense(output_dim=256,init='uniform',activation='relu'))\n",
    "classifier.add(Dense(output_dim=1,init='uniform',activation='sigmoid'))\n",
    "classifier.compile(optimizer='adam',loss='binary_crossentropy',metrics=['accuracy'])\n",
    "classifier.fit(X,Y,batch_size=500,nb_epoch=50)\n",
    "x = pd.Series(y_test, name=\"Test Data\")\n",
    "ax = sns.distplot(x)\n",
    "y_pred = classifier.predict(x_test)\n",
    "l=[]\n",
    "for i in range(len(y_pred)) :\n",
    "    if(y_pred[i]>0.5):\n",
    "        l.append(1)\n",
    "    else:\n",
    "        l.append(0)\n",
    "j=0\n",
    "count=0\n",
    "for i in l :\n",
    "    if l[j]==y_test[j]:\n",
    "        count = count+1\n",
    "    j=j+1\n",
    "# print(j)\n",
    "# print(count)\n",
    "acc_logreg = round(accuracy_score(l, y_test) * 100, 2)\n",
    "print(acc_logreg)"
   ]
  },
  {
   "cell_type": "code",
   "execution_count": 219,
   "metadata": {},
   "outputs": [
    {
     "name": "stdout",
     "output_type": "stream",
     "text": [
      "[[578   0]\n",
      " [  0 542]]\n",
      "              precision    recall  f1-score   support\n",
      "\n",
      "           0       1.00      1.00      1.00       578\n",
      "           1       1.00      1.00      1.00       542\n",
      "\n",
      "    accuracy                           1.00      1120\n",
      "   macro avg       1.00      1.00      1.00      1120\n",
      "weighted avg       1.00      1.00      1.00      1120\n",
      "\n"
     ]
    }
   ],
   "source": [
    "cm = confusion_matrix(y_test, l)\n",
    "report = classification_report(y_test, l)\n",
    "print(cm)\n",
    "print(report)"
   ]
  },
  {
   "cell_type": "code",
   "execution_count": null,
   "metadata": {},
   "outputs": [],
   "source": []
  },
  {
   "cell_type": "code",
   "execution_count": 223,
   "metadata": {},
   "outputs": [],
   "source": [
    "test_pred = classifier.predict(test)\n",
    "y_pred=[]\n",
    "for i in range(len(test_pred)) :\n",
    "    if(test_pred[i]>0.5):\n",
    "        y_pred.append(1)\n",
    "    else:\n",
    "        y_pred.append(0)"
   ]
  },
  {
   "cell_type": "code",
   "execution_count": 227,
   "metadata": {},
   "outputs": [
    {
     "data": {
      "text/plain": [
       "[1, 0, 0, 1, 0, 1, 1, 0, 1, 1]"
      ]
     },
     "execution_count": 227,
     "metadata": {},
     "output_type": "execute_result"
    }
   ],
   "source": [
    "y_pred[:10]"
   ]
  },
  {
   "cell_type": "code",
   "execution_count": null,
   "metadata": {},
   "outputs": [],
   "source": []
  },
  {
   "cell_type": "code",
   "execution_count": null,
   "metadata": {},
   "outputs": [],
   "source": []
  },
  {
   "cell_type": "code",
   "execution_count": null,
   "metadata": {},
   "outputs": [],
   "source": []
  }
 ],
 "metadata": {
  "kernelspec": {
   "display_name": "Python 3",
   "language": "python",
   "name": "python3"
  },
  "language_info": {
   "codemirror_mode": {
    "name": "ipython",
    "version": 3
   },
   "file_extension": ".py",
   "mimetype": "text/x-python",
   "name": "python",
   "nbconvert_exporter": "python",
   "pygments_lexer": "ipython3",
   "version": "3.7.3"
  },
  "toc": {
   "base_numbering": 1,
   "nav_menu": {},
   "number_sections": true,
   "sideBar": true,
   "skip_h1_title": false,
   "title_cell": "Table of Contents",
   "title_sidebar": "Contents",
   "toc_cell": false,
   "toc_position": {},
   "toc_section_display": true,
   "toc_window_display": false
  },
  "varInspector": {
   "cols": {
    "lenName": 16,
    "lenType": 16,
    "lenVar": 40
   },
   "kernels_config": {
    "python": {
     "delete_cmd_postfix": "",
     "delete_cmd_prefix": "del ",
     "library": "var_list.py",
     "varRefreshCmd": "print(var_dic_list())"
    },
    "r": {
     "delete_cmd_postfix": ") ",
     "delete_cmd_prefix": "rm(",
     "library": "var_list.r",
     "varRefreshCmd": "cat(var_dic_list()) "
    }
   },
   "position": {
    "height": "398.222px",
    "left": "1336.67px",
    "right": "20px",
    "top": "120px",
    "width": "350px"
   },
   "types_to_exclude": [
    "module",
    "function",
    "builtin_function_or_method",
    "instance",
    "_Feature"
   ],
   "window_display": false
  }
 },
 "nbformat": 4,
 "nbformat_minor": 2
}
